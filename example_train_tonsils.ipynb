{
 "cells": [
  {
   "cell_type": "code",
   "execution_count": 1,
   "id": "252c33d3-fb33-4349-bdc1-1143e5556825",
   "metadata": {},
   "outputs": [],
   "source": [
    "import warnings\n",
    "warnings.filterwarnings('ignore')\n",
    "import sys\n",
    "sys.path.append('..')"
   ]
  },
  {
   "cell_type": "code",
   "execution_count": 4,
   "id": "2867f292-05e6-4c31-8c3e-be1e71e9b330",
   "metadata": {},
   "outputs": [],
   "source": [
    "import pandas as pd\n",
    "import scanpy as sc\n",
    "import matplotlib.pyplot as plt\n",
    "import torch\n",
    "from anndata import AnnData\n",
    "import seaborn as sns\n",
    "import torch.nn as nn\n",
    "import numpy as np\n",
    "from tqdm import tqdm\n",
    "from scipy.stats import spearmanr\n",
    "import torch.nn.functional as F\n",
    "from sklearn.preprocessing import MinMaxScaler\n",
    "from matplotlib.colors import ListedColormap\n",
    "from PIL import Image\n",
    "from collections import OrderedDict\n",
    "from scipy.stats import pearsonr\n",
    "import squidpy as sq\n",
    "import timm\n",
    "import itertools\n",
    "import anndata as ad\n",
    "from sklearn.cluster import KMeans\n",
    "from sklearn.decomposition import PCA\n",
    "import itertools\n",
    "from collections import Counter\n",
    "import muon as mu"
   ]
  },
  {
   "cell_type": "code",
   "execution_count": 3,
   "id": "8fa50715-84bb-4d0d-a1b9-07b83004fec3",
   "metadata": {},
   "outputs": [],
   "source": [
    "from pipelines.load import LoadCytAssistPipeline, LoadVisiumPipeline, LoadSeuratTonsilsPipeline\n",
    "from pipelines.featurize import FeaturizePipeline\n",
    "from pipelines.train import TrainModelPipeline\n",
    "from pipelines.infer import InferencePipeline\n",
    "\n",
    "from utils import cluster, align_adata, column_corr, floatify, tocpu, alpha_shape\n",
    "from utils import alpha_shape"
   ]
  },
  {
   "cell_type": "code",
   "execution_count": 5,
   "id": "d266003c-d6b9-43f1-8da5-45152b762d10",
   "metadata": {},
   "outputs": [],
   "source": [
    "citeseq = sc.read_h5ad('/ihome/hosmanbeyoglu/kor11/tools/SPICESS/data/tonsil_atlas_citeseq.h5ad')\n",
    "df = pd.read_csv('/ihome/hosmanbeyoglu/kor11/tools/SPICESS/data/adt.csv', index_col=0)\n",
    "sc.pp.normalize_total(citeseq, target_sum=1e4)\n",
    "citeseq.var['mt'] = citeseq.var_names.str.startswith('MT-')  # annotate the group of mitochondrial genes as 'mt'\n",
    "sc.pp.calculate_qc_metrics(citeseq, qc_vars=['mt'], percent_top=None, log1p=False, inplace=True)\n",
    "mu.pp.filter_obs(citeseq, 'n_genes_by_counts', lambda x: (x >= 200) & (x < 5000))\n",
    "mu.pp.filter_obs(citeseq, 'total_counts', lambda x: (x > 1500) & (x < 15000))\n",
    "mu.pp.filter_obs(citeseq, 'pct_counts_mt', lambda x: x < 20)"
   ]
  },
  {
   "cell_type": "code",
   "execution_count": 16,
   "id": "99583bdd-e397-4a7a-a01f-805ddb69ae89",
   "metadata": {},
   "outputs": [
    {
     "name": "stdout",
     "output_type": "stream",
     "text": [
      "Created 10x Visium data loader pipeline.\n"
     ]
    }
   ],
   "source": [
    "tissue = 'Tonsil'\n",
    "antibody_panel = pd.read_csv('/ihome/hosmanbeyoglu/kor11/tools/wrapup/SPICESS/antibody_panel.csv')\n",
    "# adata_annot = sc.read_h5ad(\"../adata/tonsil_cytassist.h5ad\")\n",
    "data_path = '/ihome/hosmanbeyoglu/kor11/tools/SPICESS/data/TonsilTissue'\n",
    "gc_pth = 'https://raw.githubusercontent.com/vitkl/cell2location_paper/master/notebooks/selected_results/lymph_nodes_analysis/manual_GC_annot.csv'\n",
    "dfc = pd.read_csv(gc_pth).fillna('Other')\n",
    "dfc.columns = ['Barcode', 'GroundTruth GC']\n",
    "dfc['GroundTruth GC'] = dfc['GroundTruth GC'].astype('category')\n",
    "data_path = '/ihome/hosmanbeyoglu/kor11/tools/SPICESS/data/TonsilTissue'\n",
    "\n",
    "train_loader = LoadCytAssistPipeline(\n",
    "    tissue=tissue, \n",
    "    h5_file=data_path+'/GEX_PEX/filtered_feature_bc_matrix.h5',\n",
    "    sample_id = 0,\n",
    "    name = 'Tonsil 1',\n",
    "    # celltypes = adata_annot.obs.celltype\n",
    ")\n",
    "\n",
    "eval_loader = LoadCytAssistPipeline(\n",
    "    tissue=tissue, \n",
    "    h5_file=data_path+'/GEX_PEX_2/filtered_feature_bc_matrix.h5',\n",
    "    sample_id = 1,\n",
    "    name = 'Tonsil 2',\n",
    ")\n",
    "\n",
    "test_loader = LoadVisiumPipeline(\n",
    "    tissue=tissue, \n",
    "    visium_dir=data_path+'/GEX', \n",
    "    sample_id=2, \n",
    "    name='ST Only'\n",
    ")"
   ]
  },
  {
   "cell_type": "code",
   "execution_count": 31,
   "id": "67ef1ad7-7607-47a9-b554-33f79699322e",
   "metadata": {},
   "outputs": [
    {
     "data": {
      "text/plain": [
       "((4194, 18074), (4194, 30), (4908, 18074), (4908, 30), (4035, 36601))"
      ]
     },
     "execution_count": 31,
     "metadata": {},
     "output_type": "execute_result"
    }
   ],
   "source": [
    "adata, pdata = train_loader.run() \n",
    "adata_eval, pdata_eval = eval_loader.run()\n",
    "adata_test = test_loader.run()\n",
    "adata_test.obs = adata_test.obs.join(dfc.set_index('Barcode'))\n",
    "\n",
    "adata.shape, pdata.shape, adata_eval.shape, pdata_eval.shape, adata_test.shape"
   ]
  },
  {
   "cell_type": "code",
   "execution_count": 32,
   "id": "068aa5f1-723a-4331-97a9-bd607b18528c",
   "metadata": {},
   "outputs": [],
   "source": [
    "sc.pp.filter_genes(adata, min_cells=5, inplace=True)\n",
    "sc.pp.log1p(adata)\n",
    "sc.pp.highly_variable_genes(adata, n_top_genes=1500)\n",
    "adata = adata[:, (adata.var['highly_variable'] | adata.var_names.isin(['PTPRC']+list(pdata.var_names)))]\n",
    "adata.X = adata.layers['counts']\n",
    "\n",
    "adata_eval = align_adata(adata_eval, adata)\n",
    "adata_test = align_adata(adata_test, adata)"
   ]
  },
  {
   "cell_type": "code",
   "execution_count": 39,
   "id": "a975df4c-b7c0-4c00-bfbb-d326d09f02df",
   "metadata": {},
   "outputs": [
    {
     "name": "stdout",
     "output_type": "stream",
     "text": [
      "Created training pipeline.\n"
     ]
    },
    {
     "name": "stderr",
     "output_type": "stream",
     "text": [
      "Imput: 0.584 | SelfImput: 0.692 | Loss: 245 | Align: 0.00156 | : 100%|██████████| 6000/6000 [56:02<00:00,  1.78it/s, 1516d -> 512d || 0/100]  \n"
     ]
    }
   ],
   "source": [
    "trainer = TrainModelPipeline(\n",
    "    tissue = 'Tonsil',\n",
    "    adatas = [adata, adata_eval],\n",
    "    pdatas = [pdata, pdata_eval],\n",
    "    repeats = 10,\n",
    "    latent_dim = 512,\n",
    "    save = False,\n",
    "    lr = 2e-5,\n",
    "    dropout=0.1,\n",
    "    use_histology=True,\n",
    "    patience = 100,\n",
    "    epochs = 9000,\n",
    "    recons_gex = 1e-4, \n",
    "    recons_pex = 1e-4, \n",
    "    adj = 1e-3,\n",
    "    align = 1e-4,\n",
    "    minmax_vertical = True,\n",
    "    min_max = True,\n",
    "    gene_log = True,\n",
    "    protein_log = False\n",
    ")\n",
    "\n",
    "spicess = trainer.run()"
   ]
  },
  {
   "cell_type": "code",
   "execution_count": 42,
   "id": "9bb7cab8-11fd-456f-8986-be92196b3df0",
   "metadata": {},
   "outputs": [
    {
     "data": {
      "text/html": [
       "<div>\n",
       "<style scoped>\n",
       "    .dataframe tbody tr th:only-of-type {\n",
       "        vertical-align: middle;\n",
       "    }\n",
       "\n",
       "    .dataframe tbody tr th {\n",
       "        vertical-align: top;\n",
       "    }\n",
       "\n",
       "    .dataframe thead th {\n",
       "        text-align: right;\n",
       "    }\n",
       "</style>\n",
       "<table border=\"1\" class=\"dataframe\">\n",
       "  <thead>\n",
       "    <tr style=\"text-align: right;\">\n",
       "      <th></th>\n",
       "      <th>CORR_0</th>\n",
       "    </tr>\n",
       "  </thead>\n",
       "  <tbody>\n",
       "    <tr>\n",
       "      <th>CD163</th>\n",
       "      <td>0.646614</td>\n",
       "    </tr>\n",
       "    <tr>\n",
       "      <th>CR2</th>\n",
       "      <td>0.599839</td>\n",
       "    </tr>\n",
       "    <tr>\n",
       "      <th>PCNA</th>\n",
       "      <td>0.498297</td>\n",
       "    </tr>\n",
       "    <tr>\n",
       "      <th>VIM</th>\n",
       "      <td>0.705277</td>\n",
       "    </tr>\n",
       "    <tr>\n",
       "      <th>KRT5</th>\n",
       "      <td>0.805730</td>\n",
       "    </tr>\n",
       "    <tr>\n",
       "      <th>CD68</th>\n",
       "      <td>0.463759</td>\n",
       "    </tr>\n",
       "    <tr>\n",
       "      <th>CEACAM8</th>\n",
       "      <td>0.261672</td>\n",
       "    </tr>\n",
       "    <tr>\n",
       "      <th>PTPRC_1</th>\n",
       "      <td>0.647204</td>\n",
       "    </tr>\n",
       "    <tr>\n",
       "      <th>PAX5</th>\n",
       "      <td>0.737572</td>\n",
       "    </tr>\n",
       "    <tr>\n",
       "      <th>SDC1</th>\n",
       "      <td>0.172166</td>\n",
       "    </tr>\n",
       "    <tr>\n",
       "      <th>PTPRC_2</th>\n",
       "      <td>0.780378</td>\n",
       "    </tr>\n",
       "    <tr>\n",
       "      <th>CD8A</th>\n",
       "      <td>0.806118</td>\n",
       "    </tr>\n",
       "    <tr>\n",
       "      <th>BCL2</th>\n",
       "      <td>0.662288</td>\n",
       "    </tr>\n",
       "    <tr>\n",
       "      <th>CD19</th>\n",
       "      <td>0.660661</td>\n",
       "    </tr>\n",
       "    <tr>\n",
       "      <th>PDCD1</th>\n",
       "      <td>0.660294</td>\n",
       "    </tr>\n",
       "    <tr>\n",
       "      <th>ACTA2</th>\n",
       "      <td>0.788772</td>\n",
       "    </tr>\n",
       "    <tr>\n",
       "      <th>FCGR3A</th>\n",
       "      <td>0.226584</td>\n",
       "    </tr>\n",
       "    <tr>\n",
       "      <th>ITGAX</th>\n",
       "      <td>0.539278</td>\n",
       "    </tr>\n",
       "    <tr>\n",
       "      <th>CXCR5</th>\n",
       "      <td>0.781865</td>\n",
       "    </tr>\n",
       "    <tr>\n",
       "      <th>EPCAM</th>\n",
       "      <td>0.422440</td>\n",
       "    </tr>\n",
       "    <tr>\n",
       "      <th>MS4A1</th>\n",
       "      <td>0.673369</td>\n",
       "    </tr>\n",
       "    <tr>\n",
       "      <th>CD3E</th>\n",
       "      <td>0.840550</td>\n",
       "    </tr>\n",
       "    <tr>\n",
       "      <th>CD14</th>\n",
       "      <td>0.547152</td>\n",
       "    </tr>\n",
       "    <tr>\n",
       "      <th>CD40</th>\n",
       "      <td>0.624734</td>\n",
       "    </tr>\n",
       "    <tr>\n",
       "      <th>PECAM1</th>\n",
       "      <td>0.703595</td>\n",
       "    </tr>\n",
       "    <tr>\n",
       "      <th>CD4</th>\n",
       "      <td>0.659123</td>\n",
       "    </tr>\n",
       "    <tr>\n",
       "      <th>ITGAM</th>\n",
       "      <td>0.607327</td>\n",
       "    </tr>\n",
       "    <tr>\n",
       "      <th>CD27</th>\n",
       "      <td>0.518323</td>\n",
       "    </tr>\n",
       "    <tr>\n",
       "      <th>CCR7</th>\n",
       "      <td>0.684315</td>\n",
       "    </tr>\n",
       "    <tr>\n",
       "      <th>CD274</th>\n",
       "      <td>0.403314</td>\n",
       "    </tr>\n",
       "  </tbody>\n",
       "</table>\n",
       "</div>"
      ],
      "text/plain": [
       "           CORR_0\n",
       "CD163    0.646614\n",
       "CR2      0.599839\n",
       "PCNA     0.498297\n",
       "VIM      0.705277\n",
       "KRT5     0.805730\n",
       "CD68     0.463759\n",
       "CEACAM8  0.261672\n",
       "PTPRC_1  0.647204\n",
       "PAX5     0.737572\n",
       "SDC1     0.172166\n",
       "PTPRC_2  0.780378\n",
       "CD8A     0.806118\n",
       "BCL2     0.662288\n",
       "CD19     0.660661\n",
       "PDCD1    0.660294\n",
       "ACTA2    0.788772\n",
       "FCGR3A   0.226584\n",
       "ITGAX    0.539278\n",
       "CXCR5    0.781865\n",
       "EPCAM    0.422440\n",
       "MS4A1    0.673369\n",
       "CD3E     0.840550\n",
       "CD14     0.547152\n",
       "CD40     0.624734\n",
       "PECAM1   0.703595\n",
       "CD4      0.659123\n",
       "ITGAM    0.607327\n",
       "CD27     0.518323\n",
       "CCR7     0.684315\n",
       "CD274    0.403314"
      ]
     },
     "execution_count": 42,
     "metadata": {},
     "output_type": "execute_result"
    }
   ],
   "source": [
    "spicess.iter_0.results"
   ]
  },
  {
   "cell_type": "code",
   "execution_count": 49,
   "id": "099ba2f8-1888-46bf-b1d3-10cdfbc84bd2",
   "metadata": {},
   "outputs": [
    {
     "data": {
      "text/plain": [
       "[<matplotlib.lines.Line2D at 0x7fca1233dc90>]"
      ]
     },
     "execution_count": 49,
     "metadata": {},
     "output_type": "execute_result"
    },
    {
     "data": {
      "image/png": "[encoded data removed]",
      "text/plain": [
       "<Figure size 640x480 with 1 Axes>"
      ]
     },
     "metadata": {},
     "output_type": "display_data"
    }
   ],
   "source": [
    "plt.plot(spicess.iter_0.metrics.values.mutual_info_loss)"
   ]
  }
 ],
 "metadata": {
  "kernelspec": {
   "display_name": "spicess",
   "language": "python",
   "name": "spicess"
  },
  "language_info": {
   "codemirror_mode": {
    "name": "ipython",
    "version": 3
   },
   "file_extension": ".py",
   "mimetype": "text/x-python",
   "name": "python",
   "nbconvert_exporter": "python",
   "pygments_lexer": "ipython3",
   "version": "3.10.13"
  }
 },
 "nbformat": 4,
 "nbformat_minor": 5
}
